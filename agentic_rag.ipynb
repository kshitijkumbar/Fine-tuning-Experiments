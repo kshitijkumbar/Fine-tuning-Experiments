{
 "cells": [
  {
   "cell_type": "code",
   "execution_count": null,
   "metadata": {},
   "outputs": [],
   "source": [
    "import os\n",
    "from dotenv import load_dotenv\n",
    "load_dotenv()\n",
    "import sys\n",
    "openai.api_key = os.getenv(\"OAI_KEY\")\n",
    "brave_key = os.getenv(\"BRAVE_KEY\")\n",
    "os.environ[\"OPENAI_API_KEY\"]= os.getenv(\"OAI_KEY\")\n",
    "client = OpenAI()  \n"
   ]
  }
 ],
 "metadata": {
  "language_info": {
   "name": "python"
  }
 },
 "nbformat": 4,
 "nbformat_minor": 2
}
